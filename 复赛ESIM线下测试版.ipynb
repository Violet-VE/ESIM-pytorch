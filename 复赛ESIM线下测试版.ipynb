{
 "cells": [
  {
   "cell_type": "code",
   "execution_count": 4,
   "metadata": {},
   "outputs": [],
   "source": [
    "import numpy as np\n",
    "import pandas as pd\n",
    "import matplotlib.pyplot as plt\n",
    "from pathlib import Path\n",
    "\n",
    "pd.options.display.max_columns = None\n",
    "\n",
    "import os\n",
    "import argparse\n",
    "import pickle\n",
    "import torch\n",
    "import json\n",
    "\n",
    "import matplotlib.pyplot as plt\n",
    "import torch.nn as nn\n",
    "\n",
    "from torch.utils.data import DataLoader\n",
    "from ESIM.esim.data import NLIDataset\n",
    "from ESIM.esim.model import ESIM\n",
    "from ESIM.utils import train, validate"
   ]
  },
  {
   "cell_type": "markdown",
   "metadata": {},
   "source": [
    "# Competation Model"
   ]
  },
  {
   "cell_type": "markdown",
   "metadata": {},
   "source": [
    "## prepare bd data"
   ]
  },
  {
   "cell_type": "code",
   "execution_count": 6,
   "metadata": {
    "scrolled": true
   },
   "outputs": [
    {
     "data": {
      "text/html": [
       "<div>\n",
       "<style scoped>\n",
       "    .dataframe tbody tr th:only-of-type {\n",
       "        vertical-align: middle;\n",
       "    }\n",
       "\n",
       "    .dataframe tbody tr th {\n",
       "        vertical-align: top;\n",
       "    }\n",
       "\n",
       "    .dataframe thead th {\n",
       "        text-align: right;\n",
       "    }\n",
       "</style>\n",
       "<table border=\"1\" class=\"dataframe\">\n",
       "  <thead>\n",
       "    <tr style=\"text-align: right;\">\n",
       "      <th></th>\n",
       "      <th>query_id</th>\n",
       "      <th>query</th>\n",
       "      <th>query_title_id</th>\n",
       "      <th>title</th>\n",
       "      <th>label</th>\n",
       "    </tr>\n",
       "  </thead>\n",
       "  <tbody>\n",
       "    <tr>\n",
       "      <th>0</th>\n",
       "      <td>1</td>\n",
       "      <td>1427 5661 29788 1427 387 2299 372 22 1586 1025...</td>\n",
       "      <td>1</td>\n",
       "      <td>3447 11146 364 5113 27 19990 36 377411 41977 5...</td>\n",
       "      <td>1</td>\n",
       "    </tr>\n",
       "    <tr>\n",
       "      <th>1</th>\n",
       "      <td>1</td>\n",
       "      <td>1427 5661 29788 1427 387 2299 372 22 1586 1025...</td>\n",
       "      <td>2</td>\n",
       "      <td>3447 24 5661 29788 23 75 1678 27 19133 123 29 ...</td>\n",
       "      <td>0</td>\n",
       "    </tr>\n",
       "    <tr>\n",
       "      <th>2</th>\n",
       "      <td>1</td>\n",
       "      <td>1427 5661 29788 1427 387 2299 372 22 1586 1025...</td>\n",
       "      <td>3</td>\n",
       "      <td>372 22 1586 1025 24 391 23 27 7092 22 266 2581...</td>\n",
       "      <td>1</td>\n",
       "    </tr>\n",
       "    <tr>\n",
       "      <th>3</th>\n",
       "      <td>2</td>\n",
       "      <td>1427 5661 29788 1427 361 22 1374 279 1196 27 7...</td>\n",
       "      <td>1</td>\n",
       "      <td>46829 43659 337 68 650 78 78 22268 2846 428 11...</td>\n",
       "      <td>0</td>\n",
       "    </tr>\n",
       "    <tr>\n",
       "      <th>4</th>\n",
       "      <td>2</td>\n",
       "      <td>1427 5661 29788 1427 361 22 1374 279 1196 27 7...</td>\n",
       "      <td>2</td>\n",
       "      <td>372 22 1586 1025 24 391 23 27 7092 22 266 2581...</td>\n",
       "      <td>1</td>\n",
       "    </tr>\n",
       "  </tbody>\n",
       "</table>\n",
       "</div>"
      ],
      "text/plain": [
       "   query_id                                              query  \\\n",
       "0         1  1427 5661 29788 1427 387 2299 372 22 1586 1025...   \n",
       "1         1  1427 5661 29788 1427 387 2299 372 22 1586 1025...   \n",
       "2         1  1427 5661 29788 1427 387 2299 372 22 1586 1025...   \n",
       "3         2  1427 5661 29788 1427 361 22 1374 279 1196 27 7...   \n",
       "4         2  1427 5661 29788 1427 361 22 1374 279 1196 27 7...   \n",
       "\n",
       "   query_title_id                                              title  label  \n",
       "0               1  3447 11146 364 5113 27 19990 36 377411 41977 5...      1  \n",
       "1               2  3447 24 5661 29788 23 75 1678 27 19133 123 29 ...      0  \n",
       "2               3  372 22 1586 1025 24 391 23 27 7092 22 266 2581...      1  \n",
       "3               1  46829 43659 337 68 650 78 78 22268 2846 428 11...      0  \n",
       "4               2  372 22 1586 1025 24 391 23 27 7092 22 266 2581...      1  "
      ]
     },
     "execution_count": 6,
     "metadata": {},
     "output_type": "execute_result"
    }
   ],
   "source": [
    "train_data = pd.read_csv('ESIM/data/train_data.sample',sep=',',names=['query_id','query','query_title_id','title','label'])\n",
    "train_data.head()"
   ]
  },
  {
   "cell_type": "code",
   "execution_count": 7,
   "metadata": {},
   "outputs": [],
   "source": [
    "train_data['query_len'] = train_data['query'].apply(lambda x: len(x.split(' ')))\n",
    "train_data['title_len'] = train_data['title'].apply(lambda x: len(x.split(' ')))"
   ]
  },
  {
   "cell_type": "code",
   "execution_count": 8,
   "metadata": {},
   "outputs": [
    {
     "data": {
      "text/html": [
       "<div>\n",
       "<style scoped>\n",
       "    .dataframe tbody tr th:only-of-type {\n",
       "        vertical-align: middle;\n",
       "    }\n",
       "\n",
       "    .dataframe tbody tr th {\n",
       "        vertical-align: top;\n",
       "    }\n",
       "\n",
       "    .dataframe thead th {\n",
       "        text-align: right;\n",
       "    }\n",
       "</style>\n",
       "<table border=\"1\" class=\"dataframe\">\n",
       "  <thead>\n",
       "    <tr style=\"text-align: right;\">\n",
       "      <th></th>\n",
       "      <th>query_id</th>\n",
       "      <th>query_title_id</th>\n",
       "      <th>label</th>\n",
       "      <th>query_len</th>\n",
       "      <th>title_len</th>\n",
       "    </tr>\n",
       "  </thead>\n",
       "  <tbody>\n",
       "    <tr>\n",
       "      <th>count</th>\n",
       "      <td>20000.000000</td>\n",
       "      <td>20000.000000</td>\n",
       "      <td>20000.000000</td>\n",
       "      <td>20000.00000</td>\n",
       "      <td>20000.000000</td>\n",
       "    </tr>\n",
       "    <tr>\n",
       "      <th>mean</th>\n",
       "      <td>1501.647400</td>\n",
       "      <td>5.743900</td>\n",
       "      <td>0.251750</td>\n",
       "      <td>4.02625</td>\n",
       "      <td>13.699550</td>\n",
       "    </tr>\n",
       "    <tr>\n",
       "      <th>std</th>\n",
       "      <td>868.915712</td>\n",
       "      <td>4.706136</td>\n",
       "      <td>0.434029</td>\n",
       "      <td>8.34276</td>\n",
       "      <td>4.223467</td>\n",
       "    </tr>\n",
       "    <tr>\n",
       "      <th>min</th>\n",
       "      <td>1.000000</td>\n",
       "      <td>1.000000</td>\n",
       "      <td>0.000000</td>\n",
       "      <td>1.00000</td>\n",
       "      <td>1.000000</td>\n",
       "    </tr>\n",
       "    <tr>\n",
       "      <th>25%</th>\n",
       "      <td>733.000000</td>\n",
       "      <td>2.000000</td>\n",
       "      <td>0.000000</td>\n",
       "      <td>3.00000</td>\n",
       "      <td>11.000000</td>\n",
       "    </tr>\n",
       "    <tr>\n",
       "      <th>50%</th>\n",
       "      <td>1505.000000</td>\n",
       "      <td>4.000000</td>\n",
       "      <td>0.000000</td>\n",
       "      <td>3.00000</td>\n",
       "      <td>14.000000</td>\n",
       "    </tr>\n",
       "    <tr>\n",
       "      <th>75%</th>\n",
       "      <td>2266.000000</td>\n",
       "      <td>8.000000</td>\n",
       "      <td>1.000000</td>\n",
       "      <td>4.00000</td>\n",
       "      <td>17.000000</td>\n",
       "    </tr>\n",
       "    <tr>\n",
       "      <th>max</th>\n",
       "      <td>2991.000000</td>\n",
       "      <td>20.000000</td>\n",
       "      <td>1.000000</td>\n",
       "      <td>300.00000</td>\n",
       "      <td>35.000000</td>\n",
       "    </tr>\n",
       "  </tbody>\n",
       "</table>\n",
       "</div>"
      ],
      "text/plain": [
       "           query_id  query_title_id         label    query_len     title_len\n",
       "count  20000.000000    20000.000000  20000.000000  20000.00000  20000.000000\n",
       "mean    1501.647400        5.743900      0.251750      4.02625     13.699550\n",
       "std      868.915712        4.706136      0.434029      8.34276      4.223467\n",
       "min        1.000000        1.000000      0.000000      1.00000      1.000000\n",
       "25%      733.000000        2.000000      0.000000      3.00000     11.000000\n",
       "50%     1505.000000        4.000000      0.000000      3.00000     14.000000\n",
       "75%     2266.000000        8.000000      1.000000      4.00000     17.000000\n",
       "max     2991.000000       20.000000      1.000000    300.00000     35.000000"
      ]
     },
     "execution_count": 8,
     "metadata": {},
     "output_type": "execute_result"
    }
   ],
   "source": [
    "train_data.describe()"
   ]
  },
  {
   "cell_type": "code",
   "execution_count": 9,
   "metadata": {},
   "outputs": [
    {
     "data": {
      "text/plain": [
       "36205"
      ]
     },
     "execution_count": 9,
     "metadata": {},
     "output_type": "execute_result"
    }
   ],
   "source": [
    "query_set = set(' '.join(train_data['query']).split())\n",
    "title_set = set(' '.join(train_data['title']).split())\n",
    "word_set = query_set | title_set | {'</s>', 'pos', 'pad'}\n",
    "len(word_set)"
   ]
  },
  {
   "cell_type": "code",
   "execution_count": 10,
   "metadata": {},
   "outputs": [
    {
     "name": "stdout",
     "output_type": "stream",
     "text": [
      "Loaded 9334 word vectors\n",
      "Loaded 9334 word vectors\n"
     ]
    }
   ],
   "source": [
    "## build embeddings_index\n",
    "embeddings_index = {}\n",
    "f = open('ESIM/data/embeddings/w2v_model')\n",
    "i = 0\n",
    "for line in f:\n",
    "    if i ==0:  \n",
    "        i+=1\n",
    "        continue\n",
    "    values = line.split()\n",
    "    word = values[0]\n",
    "    coefs = np.asarray(values[1:], dtype='float32')\n",
    "    embeddings_index[word] = coefs\n",
    "f.close()\n",
    "## embeddings_index 包含所有w2v词向量词汇\n",
    "print('Loaded {} word vectors'.format(len(embeddings_index)))\n",
    "\n",
    "for i in set(embeddings_index.keys()):\n",
    "    if i not in word_set:\n",
    "        del embeddings_index[i]\n",
    "print('Loaded {} word vectors'.format(len(embeddings_index)))\n"
   ]
  },
  {
   "cell_type": "code",
   "execution_count": 11,
   "metadata": {},
   "outputs": [
    {
     "name": "stdout",
     "output_type": "stream",
     "text": [
      "9336 words in train and test texts\n"
     ]
    }
   ],
   "source": [
    "## build word_to_indices\n",
    "word_to_indices = {}\n",
    "indices = 0\n",
    "controlnum = 50000 \n",
    "#for word in embeddings_index.keys()\n",
    "word_to_indices['</s>'] = 0  # end\n",
    "indices += 1 \n",
    "word_to_indices['pad'] = 1   # pad\n",
    "indices += 1 \n",
    "word_to_indices['pos'] = 2   # no find its word means not in embedmatrix or not in texts\n",
    "indices += 1 \n",
    "for word in embeddings_index.keys():\n",
    "    if word in ['</s>', 'pad', 'pos']: continue\n",
    "    word_to_indices[word] = indices\n",
    "    indices += 1\n",
    "    #if indices > controlnum: break\n",
    "print(indices, 'words in train and test texts')\n",
    "#word_to_indices\n",
    "#embeddings_index"
   ]
  },
  {
   "cell_type": "code",
   "execution_count": 12,
   "metadata": {
    "scrolled": true
   },
   "outputs": [
    {
     "name": "stdout",
     "output_type": "stream",
     "text": [
      "Preparing embeddings matrix...\n",
      "pad\n",
      "pos\n",
      "9334 words find 2 lost in our vocabulary had w2v vectors and appear more than the min frequency\n"
     ]
    },
    {
     "data": {
      "text/plain": [
       "array([[ 0.001334  ,  0.001473  , -0.001277  , ..., -0.000437  ,\n",
       "        -0.000552  ,  0.001024  ],\n",
       "       [ 0.        ,  0.        ,  0.        , ...,  0.        ,\n",
       "         0.        ,  0.        ],\n",
       "       [ 0.04778017,  0.05877438,  0.01306976, ...,  0.07009552,\n",
       "         0.11916532, -0.02359138],\n",
       "       ...,\n",
       "       [ 0.032018  ,  0.040095  ,  0.0102    , ...,  0.046912  ,\n",
       "         0.081305  , -0.017075  ],\n",
       "       [ 0.015211  ,  0.020207  ,  0.005791  , ...,  0.024457  ,\n",
       "         0.04116   , -0.00905   ],\n",
       "       [ 0.024455  ,  0.031674  ,  0.008066  , ...,  0.037374  ,\n",
       "         0.062463  , -0.011518  ]])"
      ]
     },
     "execution_count": 12,
     "metadata": {},
     "output_type": "execute_result"
    }
   ],
   "source": [
    "## build embedding_matrix\n",
    "print('Preparing embeddings matrix...')\n",
    "mean_word_vector = np.mean(list(embeddings_index.values()), axis=0)\n",
    "embedding_dim = len(list(embeddings_index.values())[0])\n",
    "num_words = len(word_to_indices)\n",
    "embedding_matrix = np.zeros((num_words, embedding_dim))\n",
    "found_words = 0\n",
    "lost = 0\n",
    "for word in word_to_indices.keys():\n",
    "    try:\n",
    "        index = word_to_indices[word]\n",
    "        embedding_vector = embeddings_index[word]\n",
    "        embedding_matrix[index] = embedding_vector\n",
    "        found_words += 1\n",
    "    except:\n",
    "        lost += 1\n",
    "        print(word)\n",
    "#embedding_matrix[word_to_indices[word]] = mean_word_vector\n",
    "embedding_matrix[word_to_indices['pad']] = np.zeros(embedding_dim)\n",
    "embedding_matrix[word_to_indices['pos']] = mean_word_vector\n",
    "print('{} words find {} lost in our vocabulary had {} vectors and appear more than the min frequency'.format(\n",
    "    found_words, lost, 'w2v'))\n",
    "embedding_matrix"
   ]
  },
  {
   "cell_type": "code",
   "execution_count": 13,
   "metadata": {},
   "outputs": [
    {
     "name": "stdout",
     "output_type": "stream",
     "text": [
      "253 1\n"
     ]
    }
   ],
   "source": [
    "tokens = []\n",
    "for row in train_data['query']:\n",
    "    tokens.append(row.split(' '))\n",
    "\n",
    "sequences_query = [[word_to_indices[i]  for i in t if i in word_to_indices]+[0] for t in tokens]\n",
    "#padded_seq_query = [pad_sequences(s, maxlen=25, pad_idx=max_indices) for s in sequences_query]\n",
    "#sequences_query\n",
    "print(max([len(i) for i in sequences_query]), min([len(i) for i in sequences_query]))"
   ]
  },
  {
   "cell_type": "code",
   "execution_count": 14,
   "metadata": {},
   "outputs": [
    {
     "name": "stdout",
     "output_type": "stream",
     "text": [
      "32 1\n"
     ]
    }
   ],
   "source": [
    "tokens = []\n",
    "for row in train_data['title']:\n",
    "    tokens.append(row.split(' '))\n",
    "\n",
    "sequences_title = [[word_to_indices[i] for i in t if i in word_to_indices] + [0]  for t in tokens]\n",
    "#padded_seq_query = [pad_sequences(s, maxlen=35, pad_idx=max_indices) for s in sequences_title]\n",
    "#sequences_title\n",
    "print(max([len(i) for i in sequences_title]), min([len(i) for i in sequences_title]))"
   ]
  },
  {
   "cell_type": "markdown",
   "metadata": {},
   "source": [
    "## train dataset"
   ]
  },
  {
   "cell_type": "code",
   "execution_count": 15,
   "metadata": {},
   "outputs": [],
   "source": [
    "train_idx= [[train_data['query_id'][i], train_data['query_title_id'][i]] for i in range(train_data.shape[0])]\n",
    "#train_idx"
   ]
  },
  {
   "cell_type": "code",
   "execution_count": 16,
   "metadata": {},
   "outputs": [
    {
     "data": {
      "text/plain": [
       "20000"
      ]
     },
     "execution_count": 16,
     "metadata": {},
     "output_type": "execute_result"
    }
   ],
   "source": [
    "len(sequences_query)"
   ]
  },
  {
   "cell_type": "code",
   "execution_count": 17,
   "metadata": {},
   "outputs": [],
   "source": [
    "#dict_keys(['ids', 'premises', 'hypotheses', 'labels'])\n",
    "\n",
    "split_num = int(20000*0.8)\n",
    "\n",
    "train_esmim = {\n",
    "    'ids': train_idx[:split_num],\n",
    "    'premises': sequences_query[:split_num],\n",
    "    'hypotheses': sequences_title[:split_num],\n",
    "    'labels': list(train_data['label'][:split_num])\n",
    "}\n",
    "\n",
    "valid_esmim = {\n",
    "    'ids': train_idx[split_num:],\n",
    "    'premises': sequences_query[split_num:],\n",
    "    'hypotheses': sequences_title[split_num:],\n",
    "    'labels': list(train_data['label'][split_num:])\n",
    "}"
   ]
  },
  {
   "cell_type": "markdown",
   "metadata": {},
   "source": [
    "## model"
   ]
  },
  {
   "cell_type": "code",
   "execution_count": 32,
   "metadata": {},
   "outputs": [],
   "source": [
    "'''\n",
    "    \"hidden_size\": 300,\n",
    "    \"dropout\": 0.5,\n",
    "    \"num_classes\": 3,\n",
    "\n",
    "    \"epochs\": 64,\n",
    "    \"batch_size\": 32,\n",
    "    \"lr\": 0.0004,\n",
    "    \"patience\": 5,\n",
    "    \"max_gradient_norm\": 10.0\n",
    "'''\n",
    "hidden_size = 300\n",
    "dropout = 0.3\n",
    "num_classes = 2\n",
    "epochs = 5\n",
    "batch_size = 256\n",
    "lr = 0.0004\n",
    "patience = 5\n",
    "max_grad_norm = 10\n",
    "checkpoint = False\n",
    "device = torch.device(\"cuda:0\" if torch.cuda.is_available() else \"cpu\")\n",
    "save_flag = False\n",
    "#target_dir = 'data/checkpoints/'\n",
    "\n",
    "#device = torch.device('cpu')"
   ]
  },
  {
   "cell_type": "code",
   "execution_count": 33,
   "metadata": {},
   "outputs": [
    {
     "name": "stdout",
     "output_type": "stream",
     "text": [
      "\t* Loading training data...\n"
     ]
    }
   ],
   "source": [
    "print(\"\\t* Loading training data...\")\n",
    "Ntrain = NLIDataset(train_esmim, padding_idx=1, max_premise_length=10, max_hypothesis_length=25)\n",
    "Nvalid = NLIDataset(valid_esmim, padding_idx=1, max_premise_length=10, max_hypothesis_length=25)\n",
    "train_loader = DataLoader(Ntrain, shuffle=False, batch_size=batch_size)\n",
    "valid_loader = DataLoader(Nvalid, shuffle=False, batch_size=batch_size)\n",
    "embeddings = torch.tensor(embedding_matrix, dtype=torch.float).to(device)"
   ]
  },
  {
   "cell_type": "code",
   "execution_count": 34,
   "metadata": {
    "scrolled": true
   },
   "outputs": [
    {
     "name": "stderr",
     "output_type": "stream",
     "text": [
      "/root/kaggle/BDnlp/ESIM/esim/utils.py:41: UserWarning: To copy construct from a tensor, it is recommended to use sourceTensor.clone().detach() or sourceTensor.clone().detach().requires_grad_(True), rather than tensor.new_tensor(sourceTensor).\n",
      "  sequences_lengths.new_tensor(torch.arange(0, len(sequences_lengths)))\n",
      "Avg. batch proc. time: 0.0796s, loss: 0.6520:   3%|▎         | 2/63 [00:00<00:05, 11.96it/s]"
     ]
    },
    {
     "name": "stdout",
     "output_type": "stream",
     "text": [
      "\t* Validation loss before training: 0.6823, accuracy: 75.3500%\n",
      "\n",
      " ==================== Training ESIM model on device: cuda:0 ====================\n",
      "* Training epoch 1:\n"
     ]
    },
    {
     "name": "stderr",
     "output_type": "stream",
     "text": [
      "Avg. batch proc. time: 0.0758s, loss: 0.5762: 100%|██████████| 63/63 [00:05<00:00, 12.51it/s]\n"
     ]
    },
    {
     "name": "stdout",
     "output_type": "stream",
     "text": [
      "-> Training time: 5.0355s, loss = 0.5762, accuracy: 74.5312%\n",
      "* Validation for epoch 1:\n"
     ]
    },
    {
     "name": "stderr",
     "output_type": "stream",
     "text": [
      "Avg. batch proc. time: 0.0781s, loss: 0.6080:   3%|▎         | 2/63 [00:00<00:05, 12.15it/s]"
     ]
    },
    {
     "name": "stdout",
     "output_type": "stream",
     "text": [
      "-> Valid. time: 0.4353s, loss: 0.5679, accuracy: 75.3500%\n",
      "\n",
      "* Training epoch 2:\n"
     ]
    },
    {
     "name": "stderr",
     "output_type": "stream",
     "text": [
      "Avg. batch proc. time: 0.0757s, loss: 0.5687: 100%|██████████| 63/63 [00:05<00:00, 12.52it/s]\n"
     ]
    },
    {
     "name": "stdout",
     "output_type": "stream",
     "text": [
      "-> Training time: 5.0317s, loss = 0.5687, accuracy: 74.6938%\n",
      "* Validation for epoch 2:\n"
     ]
    },
    {
     "name": "stderr",
     "output_type": "stream",
     "text": [
      "Avg. batch proc. time: 0.0757s, loss: 0.6085:   3%|▎         | 2/63 [00:00<00:04, 12.62it/s]"
     ]
    },
    {
     "name": "stdout",
     "output_type": "stream",
     "text": [
      "-> Valid. time: 0.4039s, loss: 0.5683, accuracy: 75.3500%\n",
      "\n",
      "* Training epoch 3:\n"
     ]
    },
    {
     "name": "stderr",
     "output_type": "stream",
     "text": [
      "Avg. batch proc. time: 0.0760s, loss: 0.5654: 100%|██████████| 63/63 [00:05<00:00, 12.49it/s]\n"
     ]
    },
    {
     "name": "stdout",
     "output_type": "stream",
     "text": [
      "-> Training time: 5.0454s, loss = 0.5654, accuracy: 74.6938%\n",
      "* Validation for epoch 3:\n"
     ]
    },
    {
     "name": "stderr",
     "output_type": "stream",
     "text": [
      "Avg. batch proc. time: 0.0757s, loss: 0.6089:   3%|▎         | 2/63 [00:00<00:04, 12.57it/s]"
     ]
    },
    {
     "name": "stdout",
     "output_type": "stream",
     "text": [
      "-> Valid. time: 0.4020s, loss: 0.5598, accuracy: 75.3500%\n",
      "\n",
      "* Training epoch 4:\n"
     ]
    },
    {
     "name": "stderr",
     "output_type": "stream",
     "text": [
      "Avg. batch proc. time: 0.0757s, loss: 0.5614: 100%|██████████| 63/63 [00:05<00:00, 12.55it/s]\n"
     ]
    },
    {
     "name": "stdout",
     "output_type": "stream",
     "text": [
      "-> Training time: 5.0202s, loss = 0.5614, accuracy: 74.6938%\n",
      "* Validation for epoch 4:\n"
     ]
    },
    {
     "name": "stderr",
     "output_type": "stream",
     "text": [
      "Avg. batch proc. time: 0.0784s, loss: 0.6125:   3%|▎         | 2/63 [00:00<00:05, 12.13it/s]"
     ]
    },
    {
     "name": "stdout",
     "output_type": "stream",
     "text": [
      "-> Valid. time: 0.4026s, loss: 0.5590, accuracy: 75.3500%\n",
      "\n",
      "* Training epoch 5:\n"
     ]
    },
    {
     "name": "stderr",
     "output_type": "stream",
     "text": [
      "Avg. batch proc. time: 0.0764s, loss: 0.5574: 100%|██████████| 63/63 [00:05<00:00, 12.41it/s]\n"
     ]
    },
    {
     "name": "stdout",
     "output_type": "stream",
     "text": [
      "-> Training time: 5.0783s, loss = 0.5574, accuracy: 74.6938%\n",
      "* Validation for epoch 5:\n",
      "-> Valid. time: 0.4073s, loss: 0.5592, accuracy: 75.3500%\n",
      "\n"
     ]
    },
    {
     "data": {
      "image/png": "[encoded data removed]",
      "text/plain": [
       "<Figure size 432x288 with 1 Axes>"
      ]
     },
     "metadata": {
      "needs_background": "light"
     },
     "output_type": "display_data"
    }
   ],
   "source": [
    "model = ESIM(embeddings.shape[0],\n",
    "             embeddings.shape[1],\n",
    "             hidden_size,\n",
    "             embeddings=embeddings,\n",
    "             padding_idx=1,\n",
    "             dropout=dropout,\n",
    "             num_classes=num_classes,\n",
    "             device=device).to(device)\n",
    "\n",
    "# -------------------- Preparation for training  ------------------- #\n",
    "criterion = nn.CrossEntropyLoss()\n",
    "optimizer = torch.optim.Adam(model.parameters(), lr=lr)\n",
    "scheduler = torch.optim.lr_scheduler.ReduceLROnPlateau(optimizer,\n",
    "                                                       mode=\"max\",\n",
    "                                                       factor=0.5,\n",
    "                                                       patience=0)\n",
    "\n",
    "best_score = 0.0\n",
    "start_epoch = 1\n",
    "\n",
    "# Data for loss curves plot.\n",
    "epochs_count = []\n",
    "train_losses = []\n",
    "valid_losses = []\n",
    "\n",
    "# Continuing training from a checkpoint if one was given as argument.\n",
    "if checkpoint:\n",
    "    checkpoint = torch.load(checkpoint)\n",
    "    start_epoch = checkpoint[\"epoch\"] + 1\n",
    "    best_score = checkpoint[\"best_score\"]\n",
    "\n",
    "    print(\"\\t* Training will continue on existing model from epoch {}...\"\n",
    "          .format(start_epoch))\n",
    "\n",
    "    model.load_state_dict(checkpoint[\"model\"])\n",
    "    optimizer.load_state_dict(checkpoint[\"optimizer\"])\n",
    "    epochs_count = checkpoint[\"epochs_count\"]\n",
    "    train_losses = checkpoint[\"train_losses\"]\n",
    "    valid_losses = checkpoint[\"valid_losses\"]\n",
    "\n",
    "# Compute loss and accuracy before starting (or resuming) training.\n",
    "_, valid_loss, valid_accuracy, prob = validate(model,\n",
    "                                         valid_loader,\n",
    "                                         criterion)\n",
    "print(\"\\t* Validation loss before training: {:.4f}, accuracy: {:.4f}%\"\n",
    "      .format(valid_loss, (valid_accuracy*100)))\n",
    "\n",
    "# -------------------- Training epochs ------------------- #\n",
    "print(\"\\n\",\n",
    "      20 * \"=\",\n",
    "      \"Training ESIM model on device: {}\".format(device),\n",
    "      20 * \"=\")\n",
    "\n",
    "patience_counter = 0\n",
    "for epoch in range(start_epoch, epochs+1):\n",
    "    epochs_count.append(epoch)\n",
    "\n",
    "    print(\"* Training epoch {}:\".format(epoch))\n",
    "    epoch_time, epoch_loss, epoch_accuracy = train(model,\n",
    "                                                   train_loader,\n",
    "                                                   optimizer,\n",
    "                                                   criterion,\n",
    "                                                   epoch,\n",
    "                                                   max_grad_norm)\n",
    "\n",
    "    train_losses.append(epoch_loss)\n",
    "    print(\"-> Training time: {:.4f}s, loss = {:.4f}, accuracy: {:.4f}%\"\n",
    "          .format(epoch_time, epoch_loss, (epoch_accuracy*100)))\n",
    "\n",
    "    print(\"* Validation for epoch {}:\".format(epoch))\n",
    "    epoch_time, epoch_loss, epoch_accuracy, prob = validate(model,\n",
    "                                                      valid_loader,\n",
    "                                                      criterion)\n",
    "\n",
    "    valid_losses.append(epoch_loss)\n",
    "    print(\"-> Valid. time: {:.4f}s, loss: {:.4f}, accuracy: {:.4f}%\\n\"\n",
    "          .format(epoch_time, epoch_loss, (epoch_accuracy*100)))\n",
    "\n",
    "    # Update the optimizer's learning rate with the scheduler.\n",
    "    scheduler.step(epoch_accuracy)\n",
    "\n",
    "    # Early stopping on validation accuracy.\n",
    "    if epoch_accuracy < best_score:\n",
    "        patience_counter += 1\n",
    "    else:\n",
    "        best_score = epoch_accuracy\n",
    "        patience_counter = 0\n",
    "#         Save the best model. The optimizer is not saved to avoid having\n",
    "#         a checkpoint file that is too heavy to be shared. To resume\n",
    "#         training from the best model, use the 'esim_*.pth.tar'\n",
    "#         checkpoints instead.\n",
    "        if save_flag:\n",
    "            torch.save({\"epoch\": epoch,\n",
    "                        \"model\": model.state_dict(),\n",
    "                        \"best_score\": best_score,\n",
    "                        \"epochs_count\": epochs_count,\n",
    "                        \"train_losses\": train_losses,\n",
    "                        \"valid_losses\": valid_losses},\n",
    "                       os.path.join(target_dir, \"best.pth.tar\"))\n",
    "\n",
    "    # Save the model at each epoch.\n",
    "    if save_flag:\n",
    "        torch.save({\"epoch\": epoch,\n",
    "                    \"model\": model.state_dict(),\n",
    "                    \"best_score\": best_score,\n",
    "                    \"optimizer\": optimizer.state_dict(),\n",
    "                    \"epochs_count\": epochs_count,\n",
    "                    \"train_losses\": train_losses,\n",
    "                    \"valid_losses\": valid_losses},\n",
    "                   os.path.join(target_dir, \"esim_{}.pth.tar\".format(epoch)))\n",
    "\n",
    "    if patience_counter >= patience:\n",
    "        print(\"-> Early stopping: patience limit reached, stopping...\")\n",
    "        break\n",
    "\n",
    "# Plotting of the loss curves for the train and validation sets.\n",
    "plt.figure()\n",
    "plt.plot(epochs_count, train_losses, \"-r\")\n",
    "plt.plot(epochs_count, valid_losses, \"-b\")\n",
    "plt.xlabel(\"epoch\")\n",
    "plt.ylabel(\"loss\")\n",
    "plt.legend([\"Training loss\", \"Validation loss\"])\n",
    "plt.title(\"Cross entropy loss\")\n",
    "plt.show()"
   ]
  },
  {
   "cell_type": "code",
   "execution_count": 37,
   "metadata": {},
   "outputs": [
    {
     "name": "stderr",
     "output_type": "stream",
     "text": [
      "/root/kaggle/BDnlp/ESIM/esim/utils.py:41: UserWarning: To copy construct from a tensor, it is recommended to use sourceTensor.clone().detach() or sourceTensor.clone().detach().requires_grad_(True), rather than tensor.new_tensor(sourceTensor).\n",
      "  sequences_lengths.new_tensor(torch.arange(0, len(sequences_lengths)))\n"
     ]
    },
    {
     "data": {
      "text/plain": [
       "(4000, 2)"
      ]
     },
     "execution_count": 37,
     "metadata": {},
     "output_type": "execute_result"
    }
   ],
   "source": [
    "from ESIM.esim.utils import correct_predictions\n",
    "import time\n",
    "\n",
    "model.eval()\n",
    "device = model.device\n",
    "\n",
    "epoch_start = time.time()\n",
    "running_loss = 0.0\n",
    "running_accuracy = 0.0\n",
    "flag = 0\n",
    "with torch.no_grad():\n",
    "    for batch in valid_loader:\n",
    "        premises = batch[\"premise\"].to(device)\n",
    "        premises_lengths = batch[\"premise_length\"].to(device)\n",
    "        hypotheses = batch[\"hypothesis\"].to(device)\n",
    "        hypotheses_lengths = batch[\"hypothesis_length\"].to(device)\n",
    "        labels = batch[\"label\"].to(device)\n",
    "\n",
    "        logits, probs = model(premises,\n",
    "                              premises_lengths,\n",
    "                              hypotheses,\n",
    "                              hypotheses_lengths)\n",
    "        loss = criterion(logits, labels)\n",
    "        \n",
    "        try:\n",
    "            result = np.append(result, np.array(probs.cpu()), axis=0)\n",
    "        except:\n",
    "            result = np.array(probs.cpu())\n",
    "\n",
    "        running_loss += loss.item()\n",
    "        #print(running_loss, loss.item())\n",
    "        running_accuracy += correct_predictions(probs, labels)\n",
    "\n",
    "    epoch_time = time.time() - epoch_start\n",
    "    epoch_loss = running_loss / (len(valid_loader)-1)\n",
    "    epoch_accuracy = running_accuracy / (len(valid_loader.dataset))\n",
    "    \n",
    "result.shape"
   ]
  },
  {
   "cell_type": "markdown",
   "metadata": {},
   "source": [
    "## 验证Qauc"
   ]
  },
  {
   "cell_type": "code",
   "execution_count": 38,
   "metadata": {},
   "outputs": [
    {
     "name": "stderr",
     "output_type": "stream",
     "text": [
      "100%|██████████| 579/579 [00:00<00:00, 1591.83it/s]\n"
     ]
    },
    {
     "data": {
      "text/plain": [
       "0.5274531959113742"
      ]
     },
     "execution_count": 38,
     "metadata": {},
     "output_type": "execute_result"
    }
   ],
   "source": [
    "import tqdm\n",
    "from sklearn.metrics import roc_auc_score,auc\n",
    "\n",
    "def metric_auc(true,predict):\n",
    "    '''\n",
    "    true:      DataFrame , ['query_id','query_title_id','label']\n",
    "    predict:   np.array , [0.79,0.03,0.56,...]\n",
    "    '''\n",
    "    true = pd.concat([true.reset_index(drop=True),pd.DataFrame(predict)],axis=1)\n",
    "    true.columns = ['query_id','query_title_id','label','predict']\n",
    "\n",
    "    auc_score = []\n",
    "    group_df = true.groupby(['query_id'])\n",
    "    for i in tqdm.tqdm(true['query_id'].drop_duplicates()):\n",
    "        try:\n",
    "            tmp = true.iloc[group_df.groups[i]]\n",
    "            auc_score.append(roc_auc_score(tmp['label'], tmp['predict']))\n",
    "        except:\n",
    "            auc_score.append(0.5)  \n",
    "\n",
    "    return np.mean(auc_score)\n",
    "\n",
    "pred = result[:,1]\n",
    "metric_auc(train_data[['query_id','query_title_id','label']][split_num:], pred)"
   ]
  },
  {
   "cell_type": "code",
   "execution_count": 39,
   "metadata": {},
   "outputs": [
    {
     "name": "stdout",
     "output_type": "stream",
     "text": [
      "mean =  0    0.259953\n",
      "dtype: float32 min =  0    0.164779\n",
      "dtype: float32 max =  0    0.416775\n",
      "dtype: float32\n"
     ]
    },
    {
     "data": {
      "text/plain": [
       "array([[<matplotlib.axes._subplots.AxesSubplot object at 0x7f883c09ff60>]],\n",
       "      dtype=object)"
      ]
     },
     "execution_count": 39,
     "metadata": {},
     "output_type": "execute_result"
    },
    {
     "data": {
      "image/png": "[encoded data removed]",
      "text/plain": [
       "<Figure size 432x288 with 1 Axes>"
      ]
     },
     "metadata": {
      "needs_background": "light"
     },
     "output_type": "display_data"
    }
   ],
   "source": [
    "pred_df = pd.DataFrame(pred)\n",
    "print('mean = ', pred_df.mean(), 'min = ', pred_df.min(), 'max = ',  pred_df.max())\n",
    "pred_df.hist()"
   ]
  },
  {
   "cell_type": "code",
   "execution_count": null,
   "metadata": {},
   "outputs": [],
   "source": []
  }
 ],
 "metadata": {
  "kernelspec": {
   "display_name": "Python 3",
   "language": "python",
   "name": "python3"
  },
  "language_info": {
   "codemirror_mode": {
    "name": "ipython",
    "version": 3
   },
   "file_extension": ".py",
   "mimetype": "text/x-python",
   "name": "python",
   "nbconvert_exporter": "python",
   "pygments_lexer": "ipython3",
   "version": "3.7.0"
  },
  "toc": {
   "base_numbering": 1,
   "nav_menu": {},
   "number_sections": true,
   "sideBar": true,
   "skip_h1_title": false,
   "title_cell": "Table of Contents",
   "title_sidebar": "Contents",
   "toc_cell": false,
   "toc_position": {
    "height": "calc(100% - 180px)",
    "left": "10px",
    "top": "150px",
    "width": "165px"
   },
   "toc_section_display": true,
   "toc_window_display": true
  }
 },
 "nbformat": 4,
 "nbformat_minor": 2
}
